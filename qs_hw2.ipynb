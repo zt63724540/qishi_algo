{
 "cells": [
  {
   "cell_type": "code",
   "execution_count": null,
   "metadata": {},
   "outputs": [],
   "source": [
    "# 20. Valid Parentheses\n",
    "class Solution:\n",
    "    def isValid(self, s):\n",
    "        \"\"\"\n",
    "        :type s: str\n",
    "        :rtype: bool\n",
    "        \"\"\"\n",
    "        map_list = {\")\":\"(\",\"]\":\"[\",\"}\":\"{\"}\n",
    "        res = \"\"\n",
    "        for char in s:\n",
    "            if char not in map_list:\n",
    "                res = res+char\n",
    "            elif len(res)==0:\n",
    "                return False\n",
    "            elif res[-1]!=map_list[char]:\n",
    "                return False\n",
    "            else:\n",
    "                res=res[:-1]\n",
    "\n",
    "        if res:\n",
    "            return False\n",
    "        else:\n",
    "            return True"
   ]
  },
  {
   "cell_type": "code",
   "execution_count": null,
   "metadata": {},
   "outputs": [],
   "source": [
    "# 32. Longest Valid Parentheses\n",
    "class Solution:\n",
    "    def longestValidParentheses(self, s):\n",
    "        \"\"\"\n",
    "        :type s: str\n",
    "        :rtype: int\n",
    "        \"\"\"\n",
    "        maxLen = 0\n",
    "        stack = [-1]\n",
    "        for i in range(len(s)):\n",
    "            if s[i]==\"(\":\n",
    "                stack.append(i)\n",
    "            elif len(stack)>0:\n",
    "                stack.pop()\n",
    "                if len(stack)>0:\n",
    "                    maxLen = max(maxLen,i-stack[-1])\n",
    "                else:\n",
    "                    stack.append(i)\n",
    "        return maxLen"
   ]
  },
  {
   "cell_type": "code",
   "execution_count": null,
   "metadata": {},
   "outputs": [],
   "source": [
    "# 503. Next Greater Element II\n",
    "class Solution:\n",
    "    def nextGreaterElements(self, nums):\n",
    "        \"\"\"\n",
    "        :type nums: List[int]\n",
    "        :rtype: List[int]\n",
    "        \"\"\"\n",
    "        res = [-1] * len(nums)\n",
    "        stack = []\n",
    "        for _ in range(2):\n",
    "            for i in range(len(nums)):\n",
    "                while stack and nums[stack[-1]]<nums[i]:\n",
    "                    res[stack.pop()] = nums[i]\n",
    "                else:\n",
    "                    stack.append(i)\n",
    "        return res\n",
    "        "
   ]
  }
 ],
 "metadata": {
  "kernelspec": {
   "display_name": "Python 3",
   "language": "python",
   "name": "python3"
  },
  "language_info": {
   "codemirror_mode": {
    "name": "ipython",
    "version": 3
   },
   "file_extension": ".py",
   "mimetype": "text/x-python",
   "name": "python",
   "nbconvert_exporter": "python",
   "pygments_lexer": "ipython3",
   "version": "3.6.5"
  }
 },
 "nbformat": 4,
 "nbformat_minor": 2
}
